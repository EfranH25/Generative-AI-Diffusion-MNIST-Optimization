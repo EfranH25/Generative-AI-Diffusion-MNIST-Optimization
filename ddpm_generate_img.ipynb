{
 "cells": [
  {
   "cell_type": "markdown",
   "metadata": {},
   "source": [
    "notebook used to generate imgs from diffusion models"
   ]
  },
  {
   "cell_type": "code",
   "execution_count": 7,
   "metadata": {},
   "outputs": [
    {
     "name": "stdout",
     "output_type": "stream",
     "text": [
      "\n",
      "===================================BUG REPORT===================================\n",
      "================================================================================\n",
      "The following directories listed in your path were found to be non-existent: {WindowsPath('C'), WindowsPath('/Users/Efran/anaconda3/envs/compsci682/lib')}\n",
      "The following directories listed in your path were found to be non-existent: {WindowsPath('vs/workbench/api/node/extensionHostProcess')}\n",
      "The following directories listed in your path were found to be non-existent: {WindowsPath('module'), WindowsPath('/matplotlib_inline.backend_inline')}\n",
      "CUDA_SETUP: WARNING! libcudart.so not found in any environmental path. Searching in backup paths...\n",
      "The following directories listed in your path were found to be non-existent: {WindowsPath('/usr/local/cuda/lib64')}\n",
      "DEBUG: Possible options found for libcudart.so: set()\n",
      "CUDA SETUP: PyTorch settings found: CUDA_VERSION=118, Highest Compute Capability: 8.9.\n",
      "CUDA SETUP: To manually override the PyTorch CUDA version please see:https://github.com/TimDettmers/bitsandbytes/blob/main/how_to_use_nonpytorch_cuda.md\n",
      "CUDA SETUP: Loading binary c:\\Users\\Efran\\anaconda3\\envs\\compsci682\\lib\\site-packages\\bitsandbytes\\libbitsandbytes_cuda118.so...\n",
      "argument of type 'WindowsPath' is not iterable\n",
      "CUDA SETUP: Problem: The main issue seems to be that the main CUDA runtime library was not detected.\n",
      "CUDA SETUP: Solution 1: To solve the issue the libcudart.so location needs to be added to the LD_LIBRARY_PATH variable\n",
      "CUDA SETUP: Solution 1a): Find the cuda runtime library via: find / -name libcudart.so 2>/dev/null\n",
      "CUDA SETUP: Solution 1b): Once the library is found add it to the LD_LIBRARY_PATH: export LD_LIBRARY_PATH=$LD_LIBRARY_PATH:FOUND_PATH_FROM_1a\n",
      "CUDA SETUP: Solution 1c): For a permanent solution add the export from 1b into your .bashrc file, located at ~/.bashrc\n",
      "CUDA SETUP: Solution 2: If no library was found in step 1a) you need to install CUDA.\n",
      "CUDA SETUP: Solution 2a): Download CUDA install script: wget https://github.com/TimDettmers/bitsandbytes/blob/main/cuda_install.sh\n",
      "CUDA SETUP: Solution 2b): Install desired CUDA version to desired location. The syntax is bash cuda_install.sh CUDA_VERSION PATH_TO_INSTALL_INTO.\n",
      "CUDA SETUP: Solution 2b): For example, \"bash cuda_install.sh 113 ~/local/\" will download CUDA 11.3 and install into the folder ~/local\n",
      "cant import bitsandbytes\n"
     ]
    },
    {
     "name": "stderr",
     "output_type": "stream",
     "text": [
      "c:\\Users\\Efran\\anaconda3\\envs\\compsci682\\lib\\site-packages\\bitsandbytes\\cuda_setup\\main.py:166: UserWarning: Welcome to bitsandbytes. For bug reports, please run\n",
      "\n",
      "python -m bitsandbytes\n",
      "\n",
      "\n",
      "  warn(msg)\n",
      "c:\\Users\\Efran\\anaconda3\\envs\\compsci682\\lib\\site-packages\\bitsandbytes\\cuda_setup\\main.py:166: UserWarning: C:\\Users\\Efran\\anaconda3\\envs\\compsci682 did not contain ['libcudart.so', 'libcudart.so.11.0', 'libcudart.so.12.0'] as expected! Searching further paths...\n",
      "  warn(msg)\n"
     ]
    }
   ],
   "source": [
    "\n",
    "#? resources\n",
    "#? vid 1: https://www.youtube.com/watch?v=HoKDTa5jHvg&t=177s\n",
    "# explains how ddpm works\n",
    "#? vid2: https://www.youtube.com/watch?v=TBCRlnwJtZU\n",
    "# goes over implementation to ddpm\n",
    "\n",
    "import random\n",
    "import os\n",
    "import copy\n",
    "import numpy as np\n",
    "import torch\n",
    "import torch.nn as nn\n",
    "from matplotlib import pyplot as plt\n",
    "from tqdm import tqdm\n",
    "from torch import optim\n",
    "from helper_utils import *\n",
    "\n",
    "from modules import UNet, UNet_conditional, EMA\n",
    "import logging \n",
    "from torch.utils.tensorboard import SummaryWriter\n",
    "#torch.set_default_tensor_type('torch.cuda.FloatTensor')\n",
    "\n",
    "# library for quantization\n",
    "try:\n",
    "    import bitsandbytes as bnb\n",
    "    print('imported bitsandbytes')\n",
    "    \n",
    "except:\n",
    "    print('cant import bitsandbytes')\n",
    "    bnb = None\n",
    "\n",
    "logging.basicConfig(format=\"%(asctime)s - %(levelname)s: %(message)s\", level=logging.INFO, datefmt=\"%I:%M:%S\")\n",
    "\n",
    "class Diffusion:\n",
    "    def __init__(self, noise_steps=1000, beta_start=1e-4, beta_end=0.02, img_size=256, device=\"cuda\", USE_GPU = True):\n",
    "        self.noise_steps = noise_steps\n",
    "        self.beta_start = beta_start\n",
    "        self.beta_end = beta_end\n",
    "        self.img_size = img_size #resoultion of image #: side note from video --> for higher resolutions, training seperate upsamplers instead of training on bigger resolution images\n",
    "        self.device = device\n",
    "        \n",
    "        if USE_GPU and torch.cuda.is_available():\n",
    "            print(\"CUDAAAAAAAAAAA\")\n",
    "            self.use_cuda = torch.device('cuda')\n",
    "        else:\n",
    "            self.use_cuda = torch.device('cpu')\n",
    "        \n",
    "        #? right now using simple beta schedule --> open AI using cosine scheduler        \n",
    "        self.beta = self.prepare_noise_schedule().to(device)\n",
    "        self.alpha = 1. - self.beta\n",
    "        self.alpha_hat = torch.cumprod(self.alpha, dim=0)\n",
    "        \n",
    "        #! try implementing cosine scheduler\n",
    "        \n",
    "    def prepare_noise_schedule(self):\n",
    "        #? Creates a one-dimensional tensor of size steps whose values are evenly spaced from start to end, inclusive\n",
    "        return torch.linspace(self.beta_start, self.beta_end, self.noise_steps)\n",
    "    \n",
    "    def noise_images(self, x, t):\n",
    "        \"\"\"Adds noise to image. You can iteratively add noise to image but vid 1 showed \n",
    "        a simplification that adds noise in 1 step. Which is this implementation\n",
    "        Args:\n",
    "            x (_type_): _description_\n",
    "            t (_type_): _description_\n",
    "\n",
    "        Returns:\n",
    "            _type_: returns image with noise added on\n",
    "        \"\"\"\n",
    "        sqrt_alpha_hat = torch.sqrt(self.alpha_hat[t])[:, None, None, None]\n",
    "        sqrt_one_minus_alpha_hat = torch.sqrt(1 - self.alpha_hat[t])[:, None, None, None]\n",
    "        E = torch.randn_like(x)\n",
    "        return sqrt_alpha_hat * x + sqrt_one_minus_alpha_hat * E, E\n",
    "    \n",
    "    def sample_timesteps(self, n):\n",
    "        \"\"\"_summary_\n",
    "\n",
    "        Args:\n",
    "            n (_type_): _description_\n",
    "\n",
    "        Returns:\n",
    "            _type_: _description_\n",
    "        \"\"\"\n",
    "        #? needed for algorithm for training\n",
    "        return torch.randint(low=1, high=self.noise_steps, size=(n,))\n",
    "    \n",
    "\n",
    "    def sample(self, model, n, labels, channels=3, cfg_scale=3):\n",
    "        \"\"\"implements algorithm 2 from the ddpm paper in vid 1\n",
    "\n",
    "        Args:\n",
    "            model (_type_): _description_\n",
    "            n (int): number of images we want to sample \n",
    "\n",
    "        Returns:\n",
    "            _type_: _description_\n",
    "        \"\"\"\n",
    "        logging.info(f\"Sampling {n} new images....\")\n",
    "        #? see here for why we set model.eval() https://stackoverflow.com/questions/60018578/what-does-model-eval-do-in-pytorch\n",
    "        #? essentially disables some some parts of torch for specific steps\n",
    "        logging.info(f\"Sampling {n} new images....\")\n",
    "        model.eval()\n",
    "        with torch.no_grad():\n",
    "            #? create initial images by sampling over normal dist (step 1)\n",
    "            x = torch.randn((n, channels, self.img_size, self.img_size)).to(self.device)\n",
    "            \n",
    "            #? step 2, 3, 4\n",
    "            for i in tqdm(reversed(range(1, self.noise_steps)), position=0):\n",
    "                t = (torch.ones(n) * i).long().to(self.device) #? tensor of timestep\n",
    "                predicted_noise = model(x, t, labels) #? feed that into model w/ current images\n",
    "                \n",
    "                #? noise\n",
    "                if cfg_scale > 0:\n",
    "                    uncond_predicted_noise = model(x, t, None)\n",
    "                    predicted_noise = torch.lerp(uncond_predicted_noise, predicted_noise, cfg_scale)\n",
    "                alpha = self.alpha[t][:, None, None, None]\n",
    "                alpha_hat = self.alpha_hat[t][:, None, None, None]\n",
    "                beta = self.beta[t][:, None, None, None]\n",
    "                \n",
    "                #? only want noise for timestemps greater than 1. done so b/c in last iteration, would make final outcome worse due to adding noise to finalized pixels\n",
    "                if i > 1:\n",
    "                    noise = torch.randn_like(x)\n",
    "                else:\n",
    "                    noise = torch.zeros_like(x)\n",
    "                    \n",
    "                #? alter image by removed a little bit of noise\n",
    "                x = 1 / torch.sqrt(alpha) * (x - ((1 - alpha) / (torch.sqrt(1 - alpha_hat))) * predicted_noise) + torch.sqrt(beta) * noise\n",
    "        \n",
    "        #? switch back to train    \n",
    "        model.train()\n",
    "        x = (x.clamp(-1, 1) + 1) / 2 #? brings back value to 0-1 range \n",
    "        x = (x * 255).type(torch.uint8) #? bring back values to pixel range for viewing image\n",
    "        return x"
   ]
  },
  {
   "cell_type": "markdown",
   "metadata": {},
   "source": [
    "### generate img"
   ]
  },
  {
   "cell_type": "code",
   "execution_count": 28,
   "metadata": {},
   "outputs": [],
   "source": [
    "def save_images_nb(images, path, sample_image_name, epoch, **kwargs):\n",
    "    \"\"\"saving images\n",
    "\n",
    "    Args:\n",
    "        images (_type_): _description_\n",
    "        path (_type_): _description_\n",
    "    \"\"\"\n",
    "    epoch = str(epoch)\n",
    "    \n",
    "    if os.path.exists(os.path.join(path)) == False:\n",
    "        os.makedirs(os.path.join(path))\n",
    "        \n",
    "    count = 0\n",
    "    for i in images:\n",
    "        image_name = os.path.join(path, f'{count}_img.jpg')\n",
    "        img = torchvision.utils.make_grid(i.float(), **kwargs)\n",
    "        torchvision.utils.save_image(img, image_name, normalize=True)\n",
    "        count += 1\n",
    "    print('saved images to epoch folder')\n",
    "    \n",
    "    grid = torchvision.utils.make_grid(images, **kwargs)\n",
    "    ndarr = grid.permute(1, 2, 0).to('cpu').numpy()\n",
    "    im = Image.fromarray(ndarr)\n",
    "    im.save(os.path.join(path, sample_image_name))\n",
    "    print('saved images to epoch grid image')"
   ]
  },
  {
   "cell_type": "code",
   "execution_count": 29,
   "metadata": {},
   "outputs": [
    {
     "name": "stdout",
     "output_type": "stream",
     "text": [
      "CUDAAAAAAAAAAA\n"
     ]
    },
    {
     "name": "stderr",
     "output_type": "stream",
     "text": [
      "10:58:46 - INFO: Sampling 10 new images....\n",
      "10:58:46 - INFO: Sampling 10 new images....\n",
      "999it [00:54, 18.16it/s]\n",
      "10:59:41 - INFO: Sampling 10 new images....\n",
      "10:59:41 - INFO: Sampling 10 new images....\n",
      "999it [00:54, 18.21it/s]\n",
      "11:00:36 - INFO: Sampling 10 new images....\n",
      "11:00:36 - INFO: Sampling 10 new images....\n"
     ]
    },
    {
     "name": "stdout",
     "output_type": "stream",
     "text": [
      "FINAL\\base_mnist_ddpm_conditional_ema\\ddpm_conditional\n",
      "saved images to epoch folder\n",
      "saved images to epoch grid image\n",
      "saved images to epoch folder\n",
      "saved images to epoch grid image\n",
      "----------------------------------------------------------\n",
      "----------------------------------------------------------\n",
      "----------------------------------------------------------\n"
     ]
    },
    {
     "name": "stderr",
     "output_type": "stream",
     "text": [
      "999it [00:55, 17.99it/s]\n",
      "11:01:31 - INFO: Sampling 10 new images....\n",
      "11:01:31 - INFO: Sampling 10 new images....\n",
      "999it [00:55, 17.91it/s]\n",
      "11:02:27 - INFO: Sampling 10 new images....\n",
      "11:02:27 - INFO: Sampling 10 new images....\n"
     ]
    },
    {
     "name": "stdout",
     "output_type": "stream",
     "text": [
      "FINAL\\d_2_mnist_ddpm_conditional_ema\\ddpm_conditional\n",
      "saved images to epoch folder\n",
      "saved images to epoch grid image\n",
      "saved images to epoch folder\n",
      "saved images to epoch grid image\n",
      "----------------------------------------------------------\n"
     ]
    },
    {
     "name": "stderr",
     "output_type": "stream",
     "text": [
      "999it [00:53, 18.61it/s]\n",
      "11:03:21 - INFO: Sampling 10 new images....\n",
      "11:03:21 - INFO: Sampling 10 new images....\n",
      "999it [00:53, 18.73it/s]\n",
      "11:04:14 - INFO: Sampling 10 new images....\n",
      "11:04:14 - INFO: Sampling 10 new images....\n"
     ]
    },
    {
     "name": "stdout",
     "output_type": "stream",
     "text": [
      "FINAL\\d_4_mnist_ddpm_conditional_ema\\ddpm_conditional\n",
      "saved images to epoch folder\n",
      "saved images to epoch grid image\n",
      "saved images to epoch folder\n",
      "saved images to epoch grid image\n",
      "----------------------------------------------------------\n"
     ]
    },
    {
     "name": "stderr",
     "output_type": "stream",
     "text": [
      "999it [00:52, 18.89it/s]\n",
      "11:05:07 - INFO: Sampling 10 new images....\n",
      "11:05:07 - INFO: Sampling 10 new images....\n",
      "999it [00:54, 18.46it/s]\n"
     ]
    },
    {
     "name": "stdout",
     "output_type": "stream",
     "text": [
      "FINAL\\p_l1_unstructured_10_base_mnist_ddpm_conditional_ema\\ddpm_conditional\n",
      "saved images to epoch folder\n",
      "saved images to epoch grid image\n",
      "saved images to epoch folder\n",
      "saved images to epoch grid image\n",
      "----------------------------------------------------------\n"
     ]
    },
    {
     "name": "stderr",
     "output_type": "stream",
     "text": [
      "11:06:02 - INFO: Sampling 10 new images....\n",
      "11:06:02 - INFO: Sampling 10 new images....\n",
      "999it [00:55, 18.05it/s]\n",
      "11:06:57 - INFO: Sampling 10 new images....\n",
      "11:06:57 - INFO: Sampling 10 new images....\n",
      "999it [00:54, 18.27it/s]\n",
      "11:07:52 - INFO: Sampling 10 new images....\n",
      "11:07:52 - INFO: Sampling 10 new images....\n"
     ]
    },
    {
     "name": "stdout",
     "output_type": "stream",
     "text": [
      "FINAL\\p_l1_unstructured_10_d_2_mnist_ddpm_conditional_ema\\ddpm_conditional\n",
      "saved images to epoch folder\n",
      "saved images to epoch grid image\n",
      "saved images to epoch folder\n",
      "saved images to epoch grid image\n",
      "----------------------------------------------------------\n"
     ]
    },
    {
     "name": "stderr",
     "output_type": "stream",
     "text": [
      "999it [00:53, 18.53it/s]\n",
      "11:08:46 - INFO: Sampling 10 new images....\n",
      "11:08:46 - INFO: Sampling 10 new images....\n",
      "999it [00:53, 18.52it/s]\n",
      "11:09:40 - INFO: Sampling 10 new images....\n",
      "11:09:40 - INFO: Sampling 10 new images....\n"
     ]
    },
    {
     "name": "stdout",
     "output_type": "stream",
     "text": [
      "FINAL\\p_l1_unstructured_10_d_4_mnist_ddpm_conditional_ema\\ddpm_conditional\n",
      "saved images to epoch folder\n",
      "saved images to epoch grid image\n",
      "saved images to epoch folder\n",
      "saved images to epoch grid image\n",
      "----------------------------------------------------------\n"
     ]
    },
    {
     "name": "stderr",
     "output_type": "stream",
     "text": [
      "999it [00:53, 18.67it/s]\n",
      "11:10:33 - INFO: Sampling 10 new images....\n",
      "11:10:33 - INFO: Sampling 10 new images....\n",
      "999it [00:52, 19.05it/s]\n",
      "11:11:26 - INFO: Sampling 10 new images....\n",
      "11:11:26 - INFO: Sampling 10 new images....\n"
     ]
    },
    {
     "name": "stdout",
     "output_type": "stream",
     "text": [
      "FINAL\\p_l1_unstructured_30_base_mnist_ddpm_conditional_ema\\ddpm_conditional\n",
      "saved images to epoch folder\n",
      "saved images to epoch grid image\n",
      "saved images to epoch folder\n",
      "saved images to epoch grid image\n",
      "----------------------------------------------------------\n"
     ]
    },
    {
     "name": "stderr",
     "output_type": "stream",
     "text": [
      "999it [00:53, 18.61it/s]\n",
      "11:12:20 - INFO: Sampling 10 new images....\n",
      "11:12:20 - INFO: Sampling 10 new images....\n",
      "999it [00:53, 18.50it/s]\n",
      "11:13:14 - INFO: Sampling 10 new images....\n",
      "11:13:14 - INFO: Sampling 10 new images....\n"
     ]
    },
    {
     "name": "stdout",
     "output_type": "stream",
     "text": [
      "FINAL\\p_l1_unstructured_30_d_2_mnist_ddpm_conditional_ema\\ddpm_conditional\n",
      "saved images to epoch folder\n",
      "saved images to epoch grid image\n",
      "saved images to epoch folder\n",
      "saved images to epoch grid image\n",
      "----------------------------------------------------------\n"
     ]
    },
    {
     "name": "stderr",
     "output_type": "stream",
     "text": [
      "999it [00:53, 18.58it/s]\n",
      "11:14:08 - INFO: Sampling 10 new images....\n",
      "11:14:08 - INFO: Sampling 10 new images....\n",
      "999it [00:53, 18.67it/s]\n",
      "11:15:01 - INFO: Sampling 10 new images....\n",
      "11:15:01 - INFO: Sampling 10 new images....\n"
     ]
    },
    {
     "name": "stdout",
     "output_type": "stream",
     "text": [
      "FINAL\\p_l1_unstructured_30_d_4_mnist_ddpm_conditional_ema\\ddpm_conditional\n",
      "saved images to epoch folder\n",
      "saved images to epoch grid image\n",
      "saved images to epoch folder\n",
      "saved images to epoch grid image\n",
      "----------------------------------------------------------\n"
     ]
    },
    {
     "name": "stderr",
     "output_type": "stream",
     "text": [
      "999it [00:53, 18.77it/s]\n",
      "11:15:55 - INFO: Sampling 10 new images....\n",
      "11:15:55 - INFO: Sampling 10 new images....\n",
      "999it [00:52, 18.87it/s]\n",
      "11:16:48 - INFO: Sampling 10 new images....\n",
      "11:16:48 - INFO: Sampling 10 new images....\n"
     ]
    },
    {
     "name": "stdout",
     "output_type": "stream",
     "text": [
      "FINAL\\p_random_10_base_mnist_ddpm_conditional_ema\\ddpm_conditional\n",
      "saved images to epoch folder\n",
      "saved images to epoch grid image\n",
      "saved images to epoch folder\n",
      "saved images to epoch grid image\n",
      "----------------------------------------------------------\n"
     ]
    },
    {
     "name": "stderr",
     "output_type": "stream",
     "text": [
      "999it [00:52, 18.92it/s]\n",
      "11:17:40 - INFO: Sampling 10 new images....\n",
      "11:17:40 - INFO: Sampling 10 new images....\n",
      "999it [00:53, 18.77it/s]\n",
      "11:18:34 - INFO: Sampling 10 new images....\n",
      "11:18:34 - INFO: Sampling 10 new images....\n"
     ]
    },
    {
     "name": "stdout",
     "output_type": "stream",
     "text": [
      "FINAL\\p_random_10_d_2_mnist_ddpm_conditional_ema\\ddpm_conditional\n",
      "saved images to epoch folder\n",
      "saved images to epoch grid image\n",
      "saved images to epoch folder\n",
      "saved images to epoch grid image\n",
      "----------------------------------------------------------\n"
     ]
    },
    {
     "name": "stderr",
     "output_type": "stream",
     "text": [
      "999it [00:54, 18.22it/s]\n",
      "11:19:29 - INFO: Sampling 10 new images....\n",
      "11:19:29 - INFO: Sampling 10 new images....\n",
      "999it [00:55, 18.15it/s]\n",
      "11:20:24 - INFO: Sampling 10 new images....\n",
      "11:20:24 - INFO: Sampling 10 new images....\n"
     ]
    },
    {
     "name": "stdout",
     "output_type": "stream",
     "text": [
      "FINAL\\p_random_10_d_4_mnist_ddpm_conditional_ema\\ddpm_conditional\n",
      "saved images to epoch folder\n",
      "saved images to epoch grid image\n",
      "saved images to epoch folder\n",
      "saved images to epoch grid image\n",
      "----------------------------------------------------------\n"
     ]
    },
    {
     "name": "stderr",
     "output_type": "stream",
     "text": [
      "999it [00:52, 19.02it/s]\n",
      "11:21:16 - INFO: Sampling 10 new images....\n",
      "11:21:16 - INFO: Sampling 10 new images....\n",
      "999it [00:52, 18.98it/s]\n",
      "11:22:09 - INFO: Sampling 10 new images....\n",
      "11:22:09 - INFO: Sampling 10 new images....\n"
     ]
    },
    {
     "name": "stdout",
     "output_type": "stream",
     "text": [
      "FINAL\\p_random_30_base_mnist_ddpm_conditional_ema\\ddpm_conditional\n",
      "saved images to epoch folder\n",
      "saved images to epoch grid image\n",
      "saved images to epoch folder\n",
      "saved images to epoch grid image\n",
      "----------------------------------------------------------\n"
     ]
    },
    {
     "name": "stderr",
     "output_type": "stream",
     "text": [
      "999it [00:55, 18.14it/s]\n",
      "11:23:04 - INFO: Sampling 10 new images....\n",
      "11:23:04 - INFO: Sampling 10 new images....\n",
      "999it [00:55, 18.11it/s]\n",
      "11:24:00 - INFO: Sampling 10 new images....\n",
      "11:24:00 - INFO: Sampling 10 new images....\n"
     ]
    },
    {
     "name": "stdout",
     "output_type": "stream",
     "text": [
      "FINAL\\p_random_30_d_2_mnist_ddpm_conditional_ema\\ddpm_conditional\n",
      "saved images to epoch folder\n",
      "saved images to epoch grid image\n",
      "saved images to epoch folder\n",
      "saved images to epoch grid image\n",
      "----------------------------------------------------------\n"
     ]
    },
    {
     "name": "stderr",
     "output_type": "stream",
     "text": [
      "999it [00:54, 18.17it/s]\n",
      "11:24:55 - INFO: Sampling 10 new images....\n",
      "11:24:55 - INFO: Sampling 10 new images....\n",
      "999it [00:54, 18.25it/s]"
     ]
    },
    {
     "name": "stdout",
     "output_type": "stream",
     "text": [
      "FINAL\\p_random_30_d_4_mnist_ddpm_conditional_ema\\ddpm_conditional\n",
      "saved images to epoch folder\n",
      "saved images to epoch grid image\n",
      "saved images to epoch folder\n",
      "saved images to epoch grid image\n",
      "----------------------------------------------------------\n"
     ]
    },
    {
     "name": "stderr",
     "output_type": "stream",
     "text": [
      "\n"
     ]
    }
   ],
   "source": [
    "model_path = 'models'\n",
    "model_list = os.listdir(model_path)\n",
    "diffusion = Diffusion(img_size=56 , device='cuda')\n",
    "\n",
    "count = 0\n",
    "epoch = 49\n",
    "\n",
    "num_img = 10\n",
    "\n",
    "for model_type in model_list:\n",
    "    saved_models = os.listdir(os.path.join(model_path, model_type))\n",
    "    \n",
    "    if '49_ckpt.pt' in saved_models and '49_ema_ckpt.pt' in saved_models:\n",
    "        cfg = os.path.join(model_path, model_type, '49_ckpt.pt')\n",
    "        cfg_model = torch.load(cfg)\n",
    "        cfg_model.eval()\n",
    "        numbers = [random.randint(0,9) for x in range(num_img)]\n",
    "        labels = torch.FloatTensor(numbers).long().to('cuda')\n",
    "        \n",
    "        ema = os.path.join(model_path, model_type, '49_ema_ckpt.pt')\n",
    "        ema_model = torch.load(ema)\n",
    "        ema_model.eval()\n",
    "        numbers = [random.randint(0,9) for x in range(num_img)]\n",
    "        labels = torch.FloatTensor(numbers).long().to('cuda')\n",
    "        \n",
    "        sampled_images = diffusion.sample(cfg_model, n=len(labels), channels=1, labels=labels)\n",
    "        ema_sampled_images = diffusion.sample(ema_model, n=len(labels), channels=1, labels=labels)\n",
    "        \n",
    "        \n",
    "        \n",
    "        sample_images_path = os.path.join(\"FINAL\", model_type, 'ddpm_conditional')\n",
    "        sample_image_name = f\"grid.jpg\"\n",
    "        print(sample_images_path)\n",
    "        \n",
    "        save_images_nb(sampled_images, sample_images_path, sample_image_name, epoch=epoch)\n",
    "        sample_images_path = os.path.join(\"FINAL\", model_type, 'ddpm_conditional_ema')\n",
    "        save_images_nb(ema_sampled_images, sample_images_path, 'ema' + sample_image_name, epoch=epoch)\n",
    "        \n",
    "        \n",
    "    elif 'pruned_49_ckpt.pt' in saved_models and 'pruned_49_ema_ckpt.pt' in saved_models:\n",
    "        cfg = os.path.join(model_path, model_type, 'pruned_49_ckpt.pt')\n",
    "        cfg_model = torch.load(cfg)\n",
    "        cfg_model.eval()\n",
    "        numbers = [random.randint(0,9) for x in range(num_img)]\n",
    "        labels = torch.FloatTensor(numbers).long().to('cuda')\n",
    "        \n",
    "        ema = os.path.join(model_path, model_type, 'pruned_49_ema_ckpt.pt')\n",
    "        ema_model = torch.load(ema)\n",
    "        ema_model.eval()\n",
    "        numbers = [random.randint(0,9) for x in range(num_img)]\n",
    "        labels = torch.FloatTensor(numbers).long().to('cuda')\n",
    "        \n",
    "        sampled_images = diffusion.sample(cfg_model, n=len(labels), channels=1, labels=labels)\n",
    "        ema_sampled_images = diffusion.sample(ema_model, n=len(labels), channels=1, labels=labels)\n",
    "        \n",
    "        sample_images_path = os.path.join(\"FINAL\", model_type, 'ddpm_conditional')\n",
    "        sample_image_name = f\"grid.jpg\"\n",
    "        print(sample_images_path)\n",
    "        \n",
    "        save_images_nb(sampled_images, sample_images_path, sample_image_name, epoch=epoch)\n",
    "        sample_images_path = os.path.join(\"FINAL\", model_type, 'ddpm_conditional_ema')\n",
    "        save_images_nb(ema_sampled_images, sample_images_path, 'ema' + sample_image_name, epoch=epoch)\n",
    "    print('----------------------------------------------------------')"
   ]
  }
 ],
 "metadata": {
  "kernelspec": {
   "display_name": "compsci682",
   "language": "python",
   "name": "python3"
  },
  "language_info": {
   "codemirror_mode": {
    "name": "ipython",
    "version": 3
   },
   "file_extension": ".py",
   "mimetype": "text/x-python",
   "name": "python",
   "nbconvert_exporter": "python",
   "pygments_lexer": "ipython3",
   "version": "3.10.13"
  }
 },
 "nbformat": 4,
 "nbformat_minor": 2
}
