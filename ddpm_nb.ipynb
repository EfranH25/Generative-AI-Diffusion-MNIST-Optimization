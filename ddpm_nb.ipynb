{
 "cells": [
  {
   "cell_type": "markdown",
   "metadata": {},
   "source": [
    "notebook used to run & test ddpm_conditional.py functions"
   ]
  },
  {
   "cell_type": "code",
   "execution_count": 1,
   "metadata": {},
   "outputs": [
    {
     "name": "stdout",
     "output_type": "stream",
     "text": [
      "<module 'torch._C' from 'c:\\\\Users\\\\Efran\\\\anaconda3\\\\envs\\\\compsci682\\\\lib\\\\site-packages\\\\torch\\\\_C.cp310-win_amd64.pyd'>\n"
     ]
    }
   ],
   "source": [
    "\n",
    "#? resources\n",
    "#? vid 1: https://www.youtube.com/watch?v=HoKDTa5jHvg&t=177s\n",
    "# explains how ddpm works\n",
    "#? vid2: https://www.youtube.com/watch?v=TBCRlnwJtZU\n",
    "# goes over implementation to ddpm\n",
    "\n",
    "import os\n",
    "import torch\n",
    "import torch.nn as nn\n",
    "from matplotlib import pyplot as plt\n",
    "from tqdm import tqdm\n",
    "from torch import optim\n",
    "from helper_utils import *\n",
    "\n",
    "from modules import UNet\n",
    "import logging \n",
    "from torch.utils.tensorboard import SummaryWriter\n",
    "#torch.set_default_tensor_type('torch.cuda.FloatTensor')\n",
    "\n",
    "logging.basicConfig(format=\"%(asctime)s - %(levelname)s: %(message)s\", level=logging.INFO, datefmt=\"%I:%M:%S\")"
   ]
  },
  {
   "cell_type": "code",
   "execution_count": 2,
   "metadata": {},
   "outputs": [],
   "source": [
    "class Diffusion:\n",
    "    def __init__(self, noise_steps=1000, beta_start=1e-4, beta_end=0.02, img_size=256, device=\"cuda\", USE_GPU = True):\n",
    "        self.noise_steps = noise_steps\n",
    "        self.beta_start = beta_start\n",
    "        self.beta_end = beta_end\n",
    "        self.img_size = img_size #resoultion of image #: side note from video --> for higher resolutions, training seperate upsamplers instead of training on bigger resolution images\n",
    "        self.device = device\n",
    "        \n",
    "        if USE_GPU and torch.cuda.is_available():\n",
    "            print(\"CUDAAAAAAAAAAA\")\n",
    "            self.use_cuda = torch.device('cuda')\n",
    "        \n",
    "        #? right now using simple beta schedule --> open AI using cosine scheduler        \n",
    "        self.beta = self.prepare_noise_schedule().to(device)\n",
    "        self.alpha = 1. - self.beta\n",
    "        self.alpha_hat = torch.cumprod(self.alpha, dim=0)\n",
    "        \n",
    "        #! try implementing cosine scheduler\n",
    "        \n",
    "    def prepare_noise_schedule(self):\n",
    "        #? Creates a one-dimensional tensor of size steps whose values are evenly spaced from start to end, inclusive\n",
    "        return torch.linspace(self.beta_start, self.beta_end, self.noise_steps)\n",
    "    \n",
    "    def noise_images(self, x, t):\n",
    "        \"\"\"Adds noise to image. You can iteratively add noise to image but vid 1 showed \n",
    "        a simplification that adds noise in 1 step. Which is this implementation\n",
    "        Args:\n",
    "            x (_type_): _description_\n",
    "            t (_type_): _description_\n",
    "\n",
    "        Returns:\n",
    "            _type_: returns image with noise added on\n",
    "        \"\"\"\n",
    "        sqrt_alpha_hat = torch.sqrt(self.alpha_hat[t])[:, None, None, None]\n",
    "        sqrt_one_minus_alpha_hat = torch.sqrt(1 - self.alpha_hat[t])[:, None, None, None]\n",
    "        E = torch.randn_like(x)\n",
    "        return sqrt_alpha_hat * x + sqrt_one_minus_alpha_hat * E, E\n",
    "    \n",
    "    def sample_timesteps(self, n):\n",
    "        \"\"\"_summary_\n",
    "\n",
    "        Args:\n",
    "            n (_type_): _description_\n",
    "\n",
    "        Returns:\n",
    "            _type_: _description_\n",
    "        \"\"\"\n",
    "        #? needed for algorithm for training\n",
    "        return torch.randint(low=1, high=self.noise_steps, size=(n,))\n",
    "    \n",
    "    def sample(self, model, n, channels = 3):\n",
    "        \"\"\"implements algorithm 2 from the ddpm paper in vid 1\n",
    "\n",
    "        Args:\n",
    "            model (_type_): _description_\n",
    "            n (int): number of images we want to sample \n",
    "\n",
    "        Returns:\n",
    "            _type_: _description_\n",
    "        \"\"\"\n",
    "        logging.info(f\"Sampling {n} new images....\")\n",
    "        #? see here for why we set model.eval() https://stackoverflow.com/questions/60018578/what-does-model-eval-do-in-pytorch\n",
    "        #? essentially disables some some parts of torch for specific steps\n",
    "        model.eval() \n",
    "        \n",
    "        with torch.no_grad():\n",
    "            #? create initial images by sampling over normal dist (step 1)\n",
    "            x = torch.randn((n, channels, self.img_size, self.img_size)).to(self.device)\n",
    "            #x = torch.randn((n, 3, self.img_size, self.img_size)).to(self.device)\n",
    "            #? step 2, 3, 4\n",
    "            for i in tqdm(reversed(range(1, self.noise_steps)), position=0):\n",
    "                t = (torch.ones(n) * i).long().to(self.device) #? tensor of timestep\n",
    "                predicted_noise = model(x, t) #? feed that into model w/ current images\n",
    "                \n",
    "                #? noise\n",
    "                alpha = self.alpha[t][:, None, None, None]\n",
    "                alpha_hat = self.alpha_hat[t][:, None, None, None]\n",
    "                beta = self.beta[t][:, None, None, None]\n",
    "                \n",
    "                #? only want noise for timestemps greater than 1. done so b/c in last iteration, would make final outcome worse due to adding noise to finalized pixels\n",
    "                if i > 1:\n",
    "                    noise = torch.randn_like(x)\n",
    "                else:\n",
    "                    noise = torch.zeros_like(x)\n",
    "                \n",
    "                #? alter image by removed a little bit of noise\n",
    "                x = 1 / torch.sqrt(alpha) * (x - ((1 - alpha) / (torch.sqrt(1 - alpha_hat))) * predicted_noise) + torch.sqrt(beta) * noise\n",
    "        \n",
    "        #? switch back to train    \n",
    "        model.train()\n",
    "        x = (x.clamp(-1,1)+1)/2 #? brings back value to 0-1 range \n",
    "        x = (x * 255).type(torch.uint8) #? bring back values to pixel range for viewing image\n",
    "        return x\n",
    "  "
   ]
  },
  {
   "cell_type": "markdown",
   "metadata": {},
   "source": [
    "### test mnist"
   ]
  },
  {
   "cell_type": "code",
   "execution_count": 6,
   "metadata": {},
   "outputs": [],
   "source": [
    "args = {}\n",
    "args['run_name'] = \"ddpm_mnist\"\n",
    "args['epochs'] = 300\n",
    "args['epochs'] = 50\n",
    "args['batch_size'] = 10\n",
    "\n",
    "args['dataset_path'] = \"mnist\"\n",
    "args['image_size'] = 56\n",
    "args['channels'] = 1\n",
    "\n",
    "args['device'] = \"cuda\"\n",
    "args['lr'] = 3e-4"
   ]
  },
  {
   "cell_type": "code",
   "execution_count": 7,
   "metadata": {},
   "outputs": [
    {
     "name": "stdout",
     "output_type": "stream",
     "text": [
      "CUDAAAAAAAAAAA\n",
      "CUDAAAAAAAAAAA\n",
      "initialized model!\n",
      "using mnist dataset\n",
      "loaded mnist training dataset\n",
      "Size of his data set:  60000\n",
      "Size of his data set after applying 10 data points per batch: 6000\n"
     ]
    }
   ],
   "source": [
    "setup_logging(args['run_name'])\n",
    "device = args['device']\n",
    "model = UNet(c_in=args['channels'], c_out=args['channels'], size=args['image_size'], time_dim=args['image_size']*4,device=args['device']).to(device)\n",
    "optimizer = optim.AdamW(model.parameters(), lr=args['lr'])\n",
    "mse = nn.MSELoss()\n",
    "diffusion = Diffusion(img_size=args['image_size'], device=device)\n",
    "print('initialized model!')\n",
    "\n",
    "logger = SummaryWriter(os.path.join(\"runs\", args['run_name']))\n",
    "dataloader = get_data_dics(args)\n",
    "l = len(dataloader)\n",
    "print(f\"Size of his data set after applying {args['batch_size']} data points per batch:\", len(dataloader))"
   ]
  },
  {
   "cell_type": "code",
   "execution_count": 11,
   "metadata": {},
   "outputs": [],
   "source": [
    "epoch = 5\n",
    "sample_image_name = f\"{epoch}_.jpg\""
   ]
  },
  {
   "cell_type": "code",
   "execution_count": 13,
   "metadata": {},
   "outputs": [
    {
     "data": {
      "text/plain": [
       "'ema5_.jpg'"
      ]
     },
     "execution_count": 13,
     "metadata": {},
     "output_type": "execute_result"
    }
   ],
   "source": [
    "'ema' + sample_image_name"
   ]
  },
  {
   "cell_type": "code",
   "execution_count": 8,
   "metadata": {},
   "outputs": [
    {
     "name": "stderr",
     "output_type": "stream",
     "text": [
      "01:13:58 - INFO: Starting epoch 0:\n"
     ]
    },
    {
     "name": "stdout",
     "output_type": "stream",
     "text": [
      "starting loop\n"
     ]
    },
    {
     "name": "stderr",
     "output_type": "stream",
     "text": [
      "  0%|          | 22/6000 [00:02<11:17,  8.82it/s, MSE=0.102]\n"
     ]
    },
    {
     "ename": "KeyboardInterrupt",
     "evalue": "",
     "output_type": "error",
     "traceback": [
      "\u001b[1;31m---------------------------------------------------------------------------\u001b[0m",
      "\u001b[1;31mKeyboardInterrupt\u001b[0m                         Traceback (most recent call last)",
      "\u001b[1;32mf:\\Classes\\COMPSCI 682\\denoising-diffusion-pytorch-main\\ddpm\\ddpm_nb.ipynb Cell 6\u001b[0m line \u001b[0;36m1\n\u001b[0;32m     <a href='vscode-notebook-cell:/f%3A/Classes/COMPSCI%20682/denoising-diffusion-pytorch-main/ddpm/ddpm_nb.ipynb#W5sZmlsZQ%3D%3D?line=16'>17</a>\u001b[0m optimizer\u001b[39m.\u001b[39mzero_grad()\n\u001b[0;32m     <a href='vscode-notebook-cell:/f%3A/Classes/COMPSCI%20682/denoising-diffusion-pytorch-main/ddpm/ddpm_nb.ipynb#W5sZmlsZQ%3D%3D?line=17'>18</a>\u001b[0m loss\u001b[39m.\u001b[39mbackward()\n\u001b[1;32m---> <a href='vscode-notebook-cell:/f%3A/Classes/COMPSCI%20682/denoising-diffusion-pytorch-main/ddpm/ddpm_nb.ipynb#W5sZmlsZQ%3D%3D?line=18'>19</a>\u001b[0m optimizer\u001b[39m.\u001b[39;49mstep()\n\u001b[0;32m     <a href='vscode-notebook-cell:/f%3A/Classes/COMPSCI%20682/denoising-diffusion-pytorch-main/ddpm/ddpm_nb.ipynb#W5sZmlsZQ%3D%3D?line=20'>21</a>\u001b[0m pbar\u001b[39m.\u001b[39mset_postfix(MSE\u001b[39m=\u001b[39mloss\u001b[39m.\u001b[39mitem())\n\u001b[0;32m     <a href='vscode-notebook-cell:/f%3A/Classes/COMPSCI%20682/denoising-diffusion-pytorch-main/ddpm/ddpm_nb.ipynb#W5sZmlsZQ%3D%3D?line=21'>22</a>\u001b[0m logger\u001b[39m.\u001b[39madd_scalar(\u001b[39m\"\u001b[39m\u001b[39mMSE\u001b[39m\u001b[39m\"\u001b[39m, loss\u001b[39m.\u001b[39mitem(), global_step\u001b[39m=\u001b[39mepoch \u001b[39m*\u001b[39m l \u001b[39m+\u001b[39m i)\n",
      "File \u001b[1;32mc:\\Users\\Efran\\anaconda3\\envs\\compsci682\\lib\\site-packages\\torch\\optim\\optimizer.py:373\u001b[0m, in \u001b[0;36mOptimizer.profile_hook_step.<locals>.wrapper\u001b[1;34m(*args, **kwargs)\u001b[0m\n\u001b[0;32m    368\u001b[0m         \u001b[39melse\u001b[39;00m:\n\u001b[0;32m    369\u001b[0m             \u001b[39mraise\u001b[39;00m \u001b[39mRuntimeError\u001b[39;00m(\n\u001b[0;32m    370\u001b[0m                 \u001b[39mf\u001b[39m\u001b[39m\"\u001b[39m\u001b[39m{\u001b[39;00mfunc\u001b[39m}\u001b[39;00m\u001b[39m must return None or a tuple of (new_args, new_kwargs), but got \u001b[39m\u001b[39m{\u001b[39;00mresult\u001b[39m}\u001b[39;00m\u001b[39m.\u001b[39m\u001b[39m\"\u001b[39m\n\u001b[0;32m    371\u001b[0m             )\n\u001b[1;32m--> 373\u001b[0m out \u001b[39m=\u001b[39m func(\u001b[39m*\u001b[39margs, \u001b[39m*\u001b[39m\u001b[39m*\u001b[39mkwargs)\n\u001b[0;32m    374\u001b[0m \u001b[39mself\u001b[39m\u001b[39m.\u001b[39m_optimizer_step_code()\n\u001b[0;32m    376\u001b[0m \u001b[39m# call optimizer step post hooks\u001b[39;00m\n",
      "File \u001b[1;32mc:\\Users\\Efran\\anaconda3\\envs\\compsci682\\lib\\site-packages\\torch\\optim\\optimizer.py:76\u001b[0m, in \u001b[0;36m_use_grad_for_differentiable.<locals>._use_grad\u001b[1;34m(self, *args, **kwargs)\u001b[0m\n\u001b[0;32m     74\u001b[0m     torch\u001b[39m.\u001b[39mset_grad_enabled(\u001b[39mself\u001b[39m\u001b[39m.\u001b[39mdefaults[\u001b[39m'\u001b[39m\u001b[39mdifferentiable\u001b[39m\u001b[39m'\u001b[39m])\n\u001b[0;32m     75\u001b[0m     torch\u001b[39m.\u001b[39m_dynamo\u001b[39m.\u001b[39mgraph_break()\n\u001b[1;32m---> 76\u001b[0m     ret \u001b[39m=\u001b[39m func(\u001b[39mself\u001b[39m, \u001b[39m*\u001b[39margs, \u001b[39m*\u001b[39m\u001b[39m*\u001b[39mkwargs)\n\u001b[0;32m     77\u001b[0m \u001b[39mfinally\u001b[39;00m:\n\u001b[0;32m     78\u001b[0m     torch\u001b[39m.\u001b[39m_dynamo\u001b[39m.\u001b[39mgraph_break()\n",
      "File \u001b[1;32mc:\\Users\\Efran\\anaconda3\\envs\\compsci682\\lib\\site-packages\\torch\\optim\\adamw.py:184\u001b[0m, in \u001b[0;36mAdamW.step\u001b[1;34m(self, closure)\u001b[0m\n\u001b[0;32m    171\u001b[0m     beta1, beta2 \u001b[39m=\u001b[39m group[\u001b[39m\"\u001b[39m\u001b[39mbetas\u001b[39m\u001b[39m\"\u001b[39m]\n\u001b[0;32m    173\u001b[0m     \u001b[39mself\u001b[39m\u001b[39m.\u001b[39m_init_group(\n\u001b[0;32m    174\u001b[0m         group,\n\u001b[0;32m    175\u001b[0m         params_with_grad,\n\u001b[1;32m   (...)\u001b[0m\n\u001b[0;32m    181\u001b[0m         state_steps,\n\u001b[0;32m    182\u001b[0m     )\n\u001b[1;32m--> 184\u001b[0m     adamw(\n\u001b[0;32m    185\u001b[0m         params_with_grad,\n\u001b[0;32m    186\u001b[0m         grads,\n\u001b[0;32m    187\u001b[0m         exp_avgs,\n\u001b[0;32m    188\u001b[0m         exp_avg_sqs,\n\u001b[0;32m    189\u001b[0m         max_exp_avg_sqs,\n\u001b[0;32m    190\u001b[0m         state_steps,\n\u001b[0;32m    191\u001b[0m         amsgrad\u001b[39m=\u001b[39;49mamsgrad,\n\u001b[0;32m    192\u001b[0m         beta1\u001b[39m=\u001b[39;49mbeta1,\n\u001b[0;32m    193\u001b[0m         beta2\u001b[39m=\u001b[39;49mbeta2,\n\u001b[0;32m    194\u001b[0m         lr\u001b[39m=\u001b[39;49mgroup[\u001b[39m\"\u001b[39;49m\u001b[39mlr\u001b[39;49m\u001b[39m\"\u001b[39;49m],\n\u001b[0;32m    195\u001b[0m         weight_decay\u001b[39m=\u001b[39;49mgroup[\u001b[39m\"\u001b[39;49m\u001b[39mweight_decay\u001b[39;49m\u001b[39m\"\u001b[39;49m],\n\u001b[0;32m    196\u001b[0m         eps\u001b[39m=\u001b[39;49mgroup[\u001b[39m\"\u001b[39;49m\u001b[39meps\u001b[39;49m\u001b[39m\"\u001b[39;49m],\n\u001b[0;32m    197\u001b[0m         maximize\u001b[39m=\u001b[39;49mgroup[\u001b[39m\"\u001b[39;49m\u001b[39mmaximize\u001b[39;49m\u001b[39m\"\u001b[39;49m],\n\u001b[0;32m    198\u001b[0m         foreach\u001b[39m=\u001b[39;49mgroup[\u001b[39m\"\u001b[39;49m\u001b[39mforeach\u001b[39;49m\u001b[39m\"\u001b[39;49m],\n\u001b[0;32m    199\u001b[0m         capturable\u001b[39m=\u001b[39;49mgroup[\u001b[39m\"\u001b[39;49m\u001b[39mcapturable\u001b[39;49m\u001b[39m\"\u001b[39;49m],\n\u001b[0;32m    200\u001b[0m         differentiable\u001b[39m=\u001b[39;49mgroup[\u001b[39m\"\u001b[39;49m\u001b[39mdifferentiable\u001b[39;49m\u001b[39m\"\u001b[39;49m],\n\u001b[0;32m    201\u001b[0m         fused\u001b[39m=\u001b[39;49mgroup[\u001b[39m\"\u001b[39;49m\u001b[39mfused\u001b[39;49m\u001b[39m\"\u001b[39;49m],\n\u001b[0;32m    202\u001b[0m         grad_scale\u001b[39m=\u001b[39;49m\u001b[39mgetattr\u001b[39;49m(\u001b[39mself\u001b[39;49m, \u001b[39m\"\u001b[39;49m\u001b[39mgrad_scale\u001b[39;49m\u001b[39m\"\u001b[39;49m, \u001b[39mNone\u001b[39;49;00m),\n\u001b[0;32m    203\u001b[0m         found_inf\u001b[39m=\u001b[39;49m\u001b[39mgetattr\u001b[39;49m(\u001b[39mself\u001b[39;49m, \u001b[39m\"\u001b[39;49m\u001b[39mfound_inf\u001b[39;49m\u001b[39m\"\u001b[39;49m, \u001b[39mNone\u001b[39;49;00m),\n\u001b[0;32m    204\u001b[0m     )\n\u001b[0;32m    206\u001b[0m \u001b[39mreturn\u001b[39;00m loss\n",
      "File \u001b[1;32mc:\\Users\\Efran\\anaconda3\\envs\\compsci682\\lib\\site-packages\\torch\\optim\\adamw.py:335\u001b[0m, in \u001b[0;36madamw\u001b[1;34m(params, grads, exp_avgs, exp_avg_sqs, max_exp_avg_sqs, state_steps, foreach, capturable, differentiable, fused, grad_scale, found_inf, amsgrad, beta1, beta2, lr, weight_decay, eps, maximize)\u001b[0m\n\u001b[0;32m    332\u001b[0m \u001b[39melse\u001b[39;00m:\n\u001b[0;32m    333\u001b[0m     func \u001b[39m=\u001b[39m _single_tensor_adamw\n\u001b[1;32m--> 335\u001b[0m func(\n\u001b[0;32m    336\u001b[0m     params,\n\u001b[0;32m    337\u001b[0m     grads,\n\u001b[0;32m    338\u001b[0m     exp_avgs,\n\u001b[0;32m    339\u001b[0m     exp_avg_sqs,\n\u001b[0;32m    340\u001b[0m     max_exp_avg_sqs,\n\u001b[0;32m    341\u001b[0m     state_steps,\n\u001b[0;32m    342\u001b[0m     amsgrad\u001b[39m=\u001b[39;49mamsgrad,\n\u001b[0;32m    343\u001b[0m     beta1\u001b[39m=\u001b[39;49mbeta1,\n\u001b[0;32m    344\u001b[0m     beta2\u001b[39m=\u001b[39;49mbeta2,\n\u001b[0;32m    345\u001b[0m     lr\u001b[39m=\u001b[39;49mlr,\n\u001b[0;32m    346\u001b[0m     weight_decay\u001b[39m=\u001b[39;49mweight_decay,\n\u001b[0;32m    347\u001b[0m     eps\u001b[39m=\u001b[39;49meps,\n\u001b[0;32m    348\u001b[0m     maximize\u001b[39m=\u001b[39;49mmaximize,\n\u001b[0;32m    349\u001b[0m     capturable\u001b[39m=\u001b[39;49mcapturable,\n\u001b[0;32m    350\u001b[0m     differentiable\u001b[39m=\u001b[39;49mdifferentiable,\n\u001b[0;32m    351\u001b[0m     grad_scale\u001b[39m=\u001b[39;49mgrad_scale,\n\u001b[0;32m    352\u001b[0m     found_inf\u001b[39m=\u001b[39;49mfound_inf,\n\u001b[0;32m    353\u001b[0m )\n",
      "File \u001b[1;32mc:\\Users\\Efran\\anaconda3\\envs\\compsci682\\lib\\site-packages\\torch\\optim\\adamw.py:540\u001b[0m, in \u001b[0;36m_multi_tensor_adamw\u001b[1;34m(params, grads, exp_avgs, exp_avg_sqs, max_exp_avg_sqs, state_steps, grad_scale, found_inf, amsgrad, beta1, beta2, lr, weight_decay, eps, maximize, capturable, differentiable)\u001b[0m\n\u001b[0;32m    537\u001b[0m     torch\u001b[39m.\u001b[39m_foreach_mul_(device_params, \u001b[39m1\u001b[39m \u001b[39m-\u001b[39m lr \u001b[39m*\u001b[39m weight_decay)\n\u001b[0;32m    539\u001b[0m \u001b[39m# Decay the first and second moment running average coefficient\u001b[39;00m\n\u001b[1;32m--> 540\u001b[0m torch\u001b[39m.\u001b[39;49m_foreach_lerp_(device_exp_avgs, device_grads, \u001b[39m1\u001b[39;49m \u001b[39m-\u001b[39;49m beta1)\n\u001b[0;32m    542\u001b[0m torch\u001b[39m.\u001b[39m_foreach_mul_(device_exp_avg_sqs, beta2)\n\u001b[0;32m    543\u001b[0m torch\u001b[39m.\u001b[39m_foreach_addcmul_(device_exp_avg_sqs, device_grads, device_grads, \u001b[39m1\u001b[39m \u001b[39m-\u001b[39m beta2)\n",
      "\u001b[1;31mKeyboardInterrupt\u001b[0m: "
     ]
    }
   ],
   "source": [
    "\n",
    "print('starting loop')\n",
    "for epoch in range(args['epochs']):\n",
    "    logging.info(f\"Starting epoch {epoch}:\")\n",
    "    #? alorithm 1 from vid 1        \n",
    "    pbar = tqdm(dataloader)\n",
    "    for i, (images, _) in enumerate(pbar):\n",
    "    #for i, (images, _) in enumerate(dataloader):\n",
    "        images = images.to(device)\n",
    "        \n",
    "        t = diffusion.sample_timesteps(images.shape[0]).to(device)\n",
    "        x_t, noise = diffusion.noise_images(images, t)\n",
    "        \n",
    "        \n",
    "        predicted_noise = model(x_t, t)\n",
    "        loss = mse(noise, predicted_noise)\n",
    "\n",
    "        optimizer.zero_grad()\n",
    "        loss.backward()\n",
    "        optimizer.step()\n",
    "\n",
    "        pbar.set_postfix(MSE=loss.item())\n",
    "        logger.add_scalar(\"MSE\", loss.item(), global_step=epoch * l + i)\n",
    "\n",
    "    #sampled_images = diffusion.sample(model, n=images.shape[0])\n",
    "    if epoch == 0 or (epoch + 1) % 10 == 0:\n",
    "        sampled_images = diffusion.sample(model, n=10, channels=args['channels'])\n",
    "        \n",
    "        sample_images_path = os.path.join(\"results\", args['run_name'])\n",
    "        sample_image_name = f\"{epoch}_.jpg\"\n",
    "        \n",
    "        save_images(sampled_images, sample_images_path, sample_image_name, epoch=epoch)\n",
    "        torch.save(model, os.path.join(\"models\", args['run_name'], f\"{epoch}_ckpt.pt\"))\n"
   ]
  },
  {
   "cell_type": "markdown",
   "metadata": {},
   "source": [
    "### load saved models"
   ]
  },
  {
   "cell_type": "code",
   "execution_count": 14,
   "metadata": {},
   "outputs": [],
   "source": [
    "loaded_model = torch.load(r'F:\\Classes\\COMPSCI 682\\denoising-diffusion-pytorch-main\\models\\final\\ddpm_mnist\\49_ckpt.pt')\n",
    "loaded_model.eval()\n",
    "\n",
    "args = {}\n",
    "\n",
    "args['image_size'] = 56\n",
    "args['channels'] = 1\n",
    "\n",
    "args['device'] = \"cuda\"\n",
    "device = args['device']\n",
    "\n",
    "epoch = 49"
   ]
  },
  {
   "cell_type": "code",
   "execution_count": 15,
   "metadata": {},
   "outputs": [
    {
     "name": "stderr",
     "output_type": "stream",
     "text": [
      "01:34:00 - INFO: Sampling 10 new images....\n"
     ]
    },
    {
     "name": "stdout",
     "output_type": "stream",
     "text": [
      "CUDAAAAAAAAAAA\n"
     ]
    },
    {
     "name": "stderr",
     "output_type": "stream",
     "text": [
      "999it [00:32, 30.99it/s]\n"
     ]
    },
    {
     "name": "stdout",
     "output_type": "stream",
     "text": [
      "saved images to epoch folder\n",
      "saved images to epoch grid image\n"
     ]
    }
   ],
   "source": [
    "name = 'ddpm_base'\n",
    "\n",
    "diffusion = Diffusion(img_size=args['image_size'], device=device)\n",
    "sampled_images = diffusion.sample(loaded_model, n=10, channels=args['channels'])\n",
    "sample_images_path = os.path.join(\"results\", name)\n",
    "sample_image_name = f\"{name}_.jpg\"\n",
    "save_images(sampled_images, sample_images_path, sample_image_name, epoch=epoch)"
   ]
  }
 ],
 "metadata": {
  "kernelspec": {
   "display_name": "compsci682",
   "language": "python",
   "name": "python3"
  },
  "language_info": {
   "codemirror_mode": {
    "name": "ipython",
    "version": 3
   },
   "file_extension": ".py",
   "mimetype": "text/x-python",
   "name": "python",
   "nbconvert_exporter": "python",
   "pygments_lexer": "ipython3",
   "version": "3.10.13"
  }
 },
 "nbformat": 4,
 "nbformat_minor": 2
}
